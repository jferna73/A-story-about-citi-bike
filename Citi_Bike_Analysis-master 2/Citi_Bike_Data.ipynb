{
 "cells": [
  {
   "cell_type": "code",
   "execution_count": null,
   "metadata": {},
   "outputs": [],
   "source": [
    "import pandas as pd\n",
    "import numpy as np\n",
    "import matplotlib as plt\n",
    "import csv\n",
    "import glob"
   ]
  },
  {
   "cell_type": "code",
   "execution_count": null,
   "metadata": {},
   "outputs": [],
   "source": [
    "# Read in Citi Bike csv files and concatenate\n",
    "input_files = glob.glob('./data/2019*-citibike-tripdata.csv')\n",
    "print(input_files)"
   ]
  },
  {
   "cell_type": "code",
   "execution_count": null,
   "metadata": {},
   "outputs": [],
   "source": [
    "# Go through each file \n",
    "for file in input_files:\n",
    "    \n",
    "    # Read data\n",
    "    data = pd.read_csv(file)\n",
    "    # data.head()\n",
    "    # data.info()\n",
    "    \n",
    "    # Add age column\n",
    "    # Age = 2019 - birth year\n",
    "    data[\"Age\"] = 2019 - data[\"birth year\"]\n",
    "    # data.sort_values(by=['Age'], ascending=False).head()\n",
    "    \n",
    "    # Exclude birth years < 1939 (Assuming age > 80 are false inputs)\n",
    "    data.drop( data[data['birth year'] < 1939 ].index , inplace=True)\n",
    "    data[\"Age\"] = 2019 - data[\"birth year\"]\n",
    "    data.reset_index(inplace=True, drop=True)\n",
    "    \n",
    "    # Preview distribution of age\n",
    "    # data[\"Age\"].hist()\n",
    "    \n",
    "    # Add Trip Duration (mins) column\n",
    "    # Trip Duration (mins) = tripduration / 60\n",
    "    data[\"Trip Duration (mins)\"] = data[\"tripduration\"]/60\n",
    "    # data.sort_values('Trip Duration (mins)', ascending=False)\n",
    "\n",
    "    # Exclude trips that are over 24 hours \n",
    "    # (Bikes checked out for more than 24 hours are considered lost/stolen.)\n",
    "    data.drop( data[data[\"Trip Duration (mins)\"]>1440].index , inplace=True)\n",
    "    data.reset_index(inplace=True, drop=True)\n",
    "    \n",
    "    # Preview distribution of Trip Duration\n",
    "    # data[\"Trip Duration (mins)\"].hist()\n",
    "\n",
    "    # Format column headings\n",
    "    data.rename(columns = {'tripduration':'Trip Duration', \n",
    "                       'starttime':'Start Time', 'stoptime':'Stop Time', \n",
    "                       'start station id':'Start Station ID','start station name': 'Start Station Name', \n",
    "                       'start station latitude':'Start Station Latitude',\n",
    "                      'start station longitude':'Start Station Longitude', \n",
    "                       'end station id':'End Station ID', 'end station name':'End Station Name', \n",
    "                       'end station latitude':'End Station Latitude',\n",
    "                      'end station longitude':'End Station Longitude',\n",
    "                       'gender':'Gender', \"usertype\": \"User Type\",\n",
    "                      'bikeid': 'Bike ID', 'birth year': 'Birth Year', }, inplace = True)\n",
    "    \n",
    "    # Write to output file\n",
    "    output_file = \"clean-\"+ file\n",
    "    print(output_file)\n",
    "    data.to_csv(output_file, index=False) "
   ]
  },
  {
   "cell_type": "code",
   "execution_count": null,
   "metadata": {},
   "outputs": [],
   "source": []
  },
  {
   "cell_type": "code",
   "execution_count": null,
   "metadata": {},
   "outputs": [],
   "source": []
  }
 ],
 "metadata": {
  "kernelspec": {
   "display_name": "Python 3",
   "language": "python",
   "name": "python3"
  },
  "language_info": {
   "codemirror_mode": {
    "name": "ipython",
    "version": 3
   },
   "file_extension": ".py",
   "mimetype": "text/x-python",
   "name": "python",
   "nbconvert_exporter": "python",
   "pygments_lexer": "ipython3",
   "version": "3.7.1"
  }
 },
 "nbformat": 4,
 "nbformat_minor": 2
}
